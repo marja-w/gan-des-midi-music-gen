{
 "cells": [
  {
   "cell_type": "code",
   "execution_count": 2,
   "metadata": {},
   "outputs": [],
   "source": [
    "%reload_ext autoreload\n",
    "%autoreload 2\n",
    "from simulation_v3 import Sim\n",
    "from simulation_v3 import SimTester\n",
    "\n",
    "import numpy as np\n",
    "import matplotlib.pyplot as plt\n",
    "import matplotlib.animation as animation\n",
    "from matplotlib import style\n",
    "import pandas as pd\n",
    "import os\n",
    "import sys\n",
    "import time\n"
   ]
  },
  {
   "cell_type": "code",
   "execution_count": 9,
   "metadata": {},
   "outputs": [
    {
     "name": "stdout",
     "output_type": "stream",
     "text": [
      "1: 0.9909970760345459 elapsed time for 559.3199999999947 simulation time with 1000 customers\n"
     ]
    }
   ],
   "source": [
    "# In matrix form using the new method:\n",
    "\n",
    "# define the network adjacency matrix\n",
    "    # Servers/Sources/Queues defined on diagional as:\n",
    "    # 1 on diagonal: customer arrives\n",
    "    # -1 on diagonal: server with service time\n",
    "    # 0 on diagonal: server with no service time\n",
    "        # customer can only move to a server if not busy\n",
    "\n",
    "    # Connections between elements of system defined off diagonal as:\n",
    "    # sum(non-diagonal) = 1:\n",
    "        # entries are the probability of a customer moving from one element to another\n",
    "    # sum(non-diagonal) > 1 (ie, each child node has 1 in adj matrix):\n",
    "        # send customers to all child node with shortest queue\n",
    "    # sum(non-diagonal) = 0:\n",
    "        # server leads to a sink\n",
    "\n",
    "adj_sim    = np.array([ [ 1,  1,  0,  0,  0,  0,  0,  0 ],\n",
    "                        [ 0, -0.33,  0.75,  0,  0,  0.25,  0,  0 ],\n",
    "                        [ 0,  0, -.58,  0,  0,  0,  0,  0 ],\n",
    "                        [ 0,  0,  0.5,  1,  0,  0.5,  0,  0 ],\n",
    "                        [ 0,  0,  0,  0, -0.79,  0,  0.7,  0.3 ], \n",
    "                        [ 0,  0.5,  0,  0,  0.5, -0.24,  0,  0 ], \n",
    "                        [ 0,  0,  0,  0,  0, 0,  -1,  0 ],\n",
    "                        [ 0,  0,  0,  0,  0.8, 0,   0.2,  -0.9 ],])\n",
    "\n",
    "# max queue lengths\n",
    "queue_list = [5,3,7,1,8,4,21,32]\n",
    "\n",
    "probabilities = [0.2, 0.7, 0.1]\n",
    "values = [0.5, 0.9, 0.83]\n",
    "\n",
    "# define the distributions for each server\n",
    "    # name of distribution, parameters (example: ['exponential', mean=1.0])\n",
    "distributions = [['exponential', 1.764705882352],\n",
    "                 ['normal', 0.75, 0.5],\n",
    "                 ['discrete', values, probabilities],\n",
    "                 ['discrete', values, probabilities],\n",
    "                 ['discrete', values, probabilities],\n",
    "                 ['exponential', 1.764705882352],\n",
    "                 ['beta', 0.25, 5, 0.1, 0.9],\n",
    "                 ['gamma', 0.5, 3, 1.1],\n",
    "                 ['normal', 0.67, 2]]\n",
    "\n",
    "np.random.seed(42)\n",
    "seeds = np.random.randint(0, 99999, size=1)\n",
    "sim = Sim(adj_sim, distributions, queue_list, seeds=seeds, generate_log=True, animation=False, record_history=False, logging_mode='Music')\n",
    "\n",
    "sim.run(number_of_customers=1000)"
   ]
  },
  {
   "cell_type": "code",
   "execution_count": 11,
   "metadata": {},
   "outputs": [],
   "source": [
    "%reload_ext autoreload\n",
    "%autoreload 2\n",
    "\n",
    "from sim_log_process_music import process_adjsim_log\n",
    "\n",
    "# this file is still very rough.... The note levels are being randomly selected 30-127\n",
    "\n",
    "# velcoity are based off queue length\n",
    "\n",
    "# many more tuning improvements to be made - Change the matrix above for highly variable output. \n",
    "\n",
    "process_adjsim_log()"
   ]
  },
  {
   "cell_type": "code",
   "execution_count": 12,
   "metadata": {},
   "outputs": [
    {
     "name": "stdout",
     "output_type": "stream",
     "text": [
      "pygame 2.5.2 (SDL 2.28.3, Python 3.9.16)\n",
      "Hello from the pygame community. https://www.pygame.org/contribute.html\n"
     ]
    }
   ],
   "source": [
    "import mido\n",
    "from mido import MidiFile\n",
    "import pygame\n",
    "\n",
    "def play_midi(file_path, print_midi=False):\n",
    "    midi_file = MidiFile(file_path)\n",
    "\n",
    "    if print_midi:\n",
    "        for i, track in enumerate(midi_file.tracks):\n",
    "            print('Track {}: {}'.format(i, track.name))\n",
    "            for msg in track:\n",
    "                print(msg)\n",
    "\n",
    "    pygame.init()\n",
    "    pygame.mixer.music.load(file_path)\n",
    "\n",
    "\n",
    "    # pygame change volume\n",
    "    pygame.mixer.music.set_volume(5)\n",
    "    pygame.mixer.music.play()\n",
    "\n",
    "\n",
    "play_midi('output.mid', print_midi=False)"
   ]
  }
 ],
 "metadata": {
  "kernelspec": {
   "display_name": "learn",
   "language": "python",
   "name": "python3"
  },
  "language_info": {
   "codemirror_mode": {
    "name": "ipython",
    "version": 3
   },
   "file_extension": ".py",
   "mimetype": "text/x-python",
   "name": "python",
   "nbconvert_exporter": "python",
   "pygments_lexer": "ipython3",
   "version": "3.9.16"
  }
 },
 "nbformat": 4,
 "nbformat_minor": 2
}
