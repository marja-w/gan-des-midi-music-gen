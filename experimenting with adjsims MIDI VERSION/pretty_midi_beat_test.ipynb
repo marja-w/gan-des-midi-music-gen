{
 "cells": [
  {
   "cell_type": "code",
   "execution_count": 3,
   "metadata": {},
   "outputs": [],
   "source": [
    "import pretty_midi\n",
    "import mir_eval\n",
    "import numpy as np\n",
    "import glob"
   ]
  },
  {
   "cell_type": "code",
   "execution_count": null,
   "metadata": {},
   "outputs": [],
   "source": [
    "file_list = sorted(glob.glob('data\\\\maestro-v3.0.0\\\\**\\\\*.midi', recursive=True))\n",
    "\n",
    "beats_goto = 0\n",
    "beats_fmeasure = 0\n",
    "\n",
    "\n",
    "for idx, midi_name in enumerate(file_list):\n",
    "    # Load the MIDI file\n",
    "    midi_data = pretty_midi.PrettyMIDI(midi_name)\n",
    "\n",
    "    # Get the beats\n",
    "    midi_beats = midi_data.get_beats()\n",
    "\n",
    "    # Get the downbeats\n",
    "    midi_downbeats = midi_data.get_downbeats()\n",
    "\n",
    "    # evaluate the beats\n",
    "    beats_fmeasure += mir_eval.beat.evaluate(midi_downbeats, midi_beats)[2]\n",
    "\n",
    "    # ev\n"
   ]
  }
 ],
 "metadata": {
  "kernelspec": {
   "display_name": "learn",
   "language": "python",
   "name": "python3"
  },
  "language_info": {
   "codemirror_mode": {
    "name": "ipython",
    "version": 3
   },
   "file_extension": ".py",
   "mimetype": "text/x-python",
   "name": "python",
   "nbconvert_exporter": "python",
   "pygments_lexer": "ipython3",
   "version": "3.9.16"
  }
 },
 "nbformat": 4,
 "nbformat_minor": 2
}
