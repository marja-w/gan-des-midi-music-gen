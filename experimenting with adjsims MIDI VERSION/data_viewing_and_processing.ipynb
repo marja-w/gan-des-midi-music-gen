{
 "cells": [
  {
   "cell_type": "code",
   "execution_count": 2,
   "metadata": {},
   "outputs": [
    {
     "name": "stdout",
     "output_type": "stream",
     "text": [
      "[ 0.   0.5  1.   1.5  2.   2.5  3.   3.5  4.   4.5  5.   5.5  6.   6.5\n",
      "  7.   7.5  8.   8.5  9.   9.5 10.  10.5 11.  11.5 12.  12.5 13.  13.5\n",
      " 14.  14.5 15.  15.5 16.  16.5 17. ]\n"
     ]
    }
   ],
   "source": [
    "import pretty_midi\n",
    "\n",
    "# Load MIDI file into PrettyMIDI object\n",
    "midi_data = pretty_midi.PrettyMIDI('adj_sim_outputs\\midi\\output.mid')\n",
    "\n",
    "# Retrieve the list of beat times\n",
    "beat_times = midi_data.get_beats()\n",
    "\n",
    "print(beat_times)"
   ]
  },
  {
   "cell_type": "code",
   "execution_count": 2,
   "metadata": {},
   "outputs": [
    {
     "name": "stdout",
     "output_type": "stream",
     "text": [
      "pygame 2.5.2 (SDL 2.28.3, Python 3.9.16)\n",
      "Hello from the pygame community. https://www.pygame.org/contribute.html\n"
     ]
    }
   ],
   "source": [
    "# play the midi file in adj_sim_outputs\\midi\\output.mid\n",
    "import pygame\n",
    "pygame.init()\n",
    "pygame.mixer.music.load('adj_sim_outputs\\midi\\output.mid')\n",
    "pygame.mixer.music.play()\n",
    "pygame.time.wait(5000) # let the music play for 5 seconds\n",
    "pygame.mixer.music.stop() # stop the music\n",
    "pygame.quit()\n"
   ]
  },
  {
   "cell_type": "code",
   "execution_count": null,
   "metadata": {},
   "outputs": [],
   "source": [
    "import mido\n",
    "import glob\n",
    "import torch\n",
    "from datasets import generate_piano_roll  # Assuming this function is in datasets.py\n",
    "\n",
    "root_dir = 'data\\\\maestro-v3.0.0'\n",
    "sequence_length = 100\n",
    "beats_length = 50\n",
    "device = 'cpu'\n",
    "\n",
    "file_list = sorted(glob.glob('data\\\\maestro-v3.0.0\\\\**\\\\*.midi', recursive=True))\n",
    "\n",
    "for idx, midi_name in enumerate(file_list):\n",
    "    print(f\"Loading and preprocessing data for index {idx}\")\n",
    "    piano_roll, durations, beats = generate_piano_roll(midi_name, sequence_length, beats_length)\n",
    "    piano_roll = torch.from_numpy(piano_roll).float().to(device)\n",
    "    durations = torch.from_numpy(durations).float().to(device)\n",
    "    beats = torch.from_numpy(beats).float().to(device)\n",
    "    torch.save((piano_roll, durations, beats), f'data\\\\tensors\\\\data_{idx}.pt')"
   ]
  },
  {
   "cell_type": "code",
   "execution_count": 1,
   "metadata": {},
   "outputs": [
    {
     "name": "stdout",
     "output_type": "stream",
     "text": [
      "Loading and preprocessing data for index 0\n",
      "Loading and preprocessing data for index 50\n",
      "Loading and preprocessing data for index 100\n",
      "Loading and preprocessing data for index 150\n",
      "Loading and preprocessing data for index 200\n",
      "Loading and preprocessing data for index 250\n",
      "Loading and preprocessing data for index 300\n",
      "Loading and preprocessing data for index 350\n",
      "Loading and preprocessing data for index 400\n",
      "Loading and preprocessing data for index 450\n",
      "Loading and preprocessing data for index 500\n",
      "Loading and preprocessing data for index 550\n",
      "Loading and preprocessing data for index 600\n",
      "Loading and preprocessing data for index 650\n",
      "Loading and preprocessing data for index 700\n",
      "Loading and preprocessing data for index 750\n",
      "Loading and preprocessing data for index 800\n",
      "Loading and preprocessing data for index 850\n",
      "Loading and preprocessing data for index 900\n",
      "Loading and preprocessing data for index 950\n",
      "Loading and preprocessing data for index 1000\n",
      "Loading and preprocessing data for index 1050\n",
      "Loading and preprocessing data for index 1100\n",
      "Loading and preprocessing data for index 1150\n",
      "Loading and preprocessing data for index 1200\n",
      "Loading and preprocessing data for index 1250\n",
      "Saving preprocessed data\n"
     ]
    }
   ],
   "source": [
    "import mido\n",
    "import pickle\n",
    "import glob\n",
    "import torch\n",
    "from datasets import generate_piano_roll  # Assuming this function is in datasets.py\n",
    "\n",
    "sequence_length = 100\n",
    "beats_length = 50\n",
    "device = torch.device(\"cuda\" if torch.cuda.is_available() else \"cpu\")\n",
    "\n",
    "file_list = sorted(glob.glob('data\\\\maestro-v3.0.0\\\\**\\\\*.midi', recursive=True))\n",
    "\n",
    "preprocessed_data = []\n",
    "\n",
    "for idx, midi_name in enumerate(file_list):\n",
    "    if idx % 50 == 0:\n",
    "        print(f\"Loading and preprocessing data for index {idx}\")\n",
    "    piano_roll, durations, beats = generate_piano_roll(midi_name, sequence_length, beats_length)\n",
    "    piano_roll = torch.from_numpy(piano_roll).float().to(device)\n",
    "    durations = torch.from_numpy(durations).float().to(device)\n",
    "    beats = torch.from_numpy(beats).float().to(device)\n",
    "    preprocessed_data.append((piano_roll, durations, beats))\n",
    "\n",
    "print(\"Saving preprocessed data\")\n",
    "with open('data\\\\preprocessed_data.pkl', 'wb') as f:\n",
    "    pickle.dump(preprocessed_data, f)"
   ]
  }
 ],
 "metadata": {
  "kernelspec": {
   "display_name": "learn",
   "language": "python",
   "name": "python3"
  },
  "language_info": {
   "codemirror_mode": {
    "name": "ipython",
    "version": 3
   },
   "file_extension": ".py",
   "mimetype": "text/x-python",
   "name": "python",
   "nbconvert_exporter": "python",
   "pygments_lexer": "ipython3",
   "version": "3.9.16"
  }
 },
 "nbformat": 4,
 "nbformat_minor": 2
}
